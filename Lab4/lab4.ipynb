{
 "cells": [
  {
   "attachments": {},
   "cell_type": "markdown",
   "metadata": {},
   "source": [
    "# Lab 4 - Linear models\n",
    "\n",
    "We focus on models in the form \n",
    "\n",
    "$$ y \\sim \\mathrm{Normal}(\\alpha+X\\beta,\\sigma) $$\n",
    "\n"
   ]
  },
  {
   "cell_type": "code",
   "execution_count": 95,
   "metadata": {},
   "outputs": [],
   "source": [
    "from cmdstanpy import CmdStanModel\n",
    "\n",
    "\n",
    "import arviz as az\n",
    "import numpy as np\n",
    "import scipy.stats as stats\n",
    "\n",
    "import matplotlib.pyplot as plt\n",
    "import pandas as pd\n",
    "\n",
    "import seaborn as sns"
   ]
  },
  {
   "cell_type": "markdown",
   "metadata": {},
   "source": [
    "## Excercise 1 - modelling height of !Kung people"
   ]
  },
  {
   "cell_type": "markdown",
   "metadata": {},
   "source": [
    "### Normal model - no predictors\n",
    "We will try to fit $\\mathrm{Normal}(\\mu,\\sigma)$ distribution to height data. Special case of linear model with $\\beta=0$."
   ]
  },
  {
   "cell_type": "code",
   "execution_count": 96,
   "metadata": {},
   "outputs": [
    {
     "data": {
      "text/html": [
       "<div>\n",
       "<style scoped>\n",
       "    .dataframe tbody tr th:only-of-type {\n",
       "        vertical-align: middle;\n",
       "    }\n",
       "\n",
       "    .dataframe tbody tr th {\n",
       "        vertical-align: top;\n",
       "    }\n",
       "\n",
       "    .dataframe thead th {\n",
       "        text-align: right;\n",
       "    }\n",
       "</style>\n",
       "<table border=\"1\" class=\"dataframe\">\n",
       "  <thead>\n",
       "    <tr style=\"text-align: right;\">\n",
       "      <th></th>\n",
       "      <th>height</th>\n",
       "      <th>weight</th>\n",
       "      <th>age</th>\n",
       "      <th>male</th>\n",
       "    </tr>\n",
       "  </thead>\n",
       "  <tbody>\n",
       "    <tr>\n",
       "      <th>0</th>\n",
       "      <td>151.7650</td>\n",
       "      <td>47.825606</td>\n",
       "      <td>63.0</td>\n",
       "      <td>1</td>\n",
       "    </tr>\n",
       "    <tr>\n",
       "      <th>1</th>\n",
       "      <td>139.7000</td>\n",
       "      <td>36.485807</td>\n",
       "      <td>63.0</td>\n",
       "      <td>0</td>\n",
       "    </tr>\n",
       "    <tr>\n",
       "      <th>2</th>\n",
       "      <td>136.5250</td>\n",
       "      <td>31.864838</td>\n",
       "      <td>65.0</td>\n",
       "      <td>0</td>\n",
       "    </tr>\n",
       "    <tr>\n",
       "      <th>3</th>\n",
       "      <td>156.8450</td>\n",
       "      <td>53.041914</td>\n",
       "      <td>41.0</td>\n",
       "      <td>1</td>\n",
       "    </tr>\n",
       "    <tr>\n",
       "      <th>4</th>\n",
       "      <td>145.4150</td>\n",
       "      <td>41.276872</td>\n",
       "      <td>51.0</td>\n",
       "      <td>0</td>\n",
       "    </tr>\n",
       "    <tr>\n",
       "      <th>5</th>\n",
       "      <td>163.8300</td>\n",
       "      <td>62.992589</td>\n",
       "      <td>35.0</td>\n",
       "      <td>1</td>\n",
       "    </tr>\n",
       "    <tr>\n",
       "      <th>6</th>\n",
       "      <td>149.2250</td>\n",
       "      <td>38.243476</td>\n",
       "      <td>32.0</td>\n",
       "      <td>0</td>\n",
       "    </tr>\n",
       "    <tr>\n",
       "      <th>7</th>\n",
       "      <td>168.9100</td>\n",
       "      <td>55.479971</td>\n",
       "      <td>27.0</td>\n",
       "      <td>1</td>\n",
       "    </tr>\n",
       "    <tr>\n",
       "      <th>8</th>\n",
       "      <td>147.9550</td>\n",
       "      <td>34.869885</td>\n",
       "      <td>19.0</td>\n",
       "      <td>0</td>\n",
       "    </tr>\n",
       "    <tr>\n",
       "      <th>9</th>\n",
       "      <td>165.1000</td>\n",
       "      <td>54.487739</td>\n",
       "      <td>54.0</td>\n",
       "      <td>1</td>\n",
       "    </tr>\n",
       "    <tr>\n",
       "      <th>10</th>\n",
       "      <td>154.3050</td>\n",
       "      <td>49.895120</td>\n",
       "      <td>47.0</td>\n",
       "      <td>0</td>\n",
       "    </tr>\n",
       "    <tr>\n",
       "      <th>11</th>\n",
       "      <td>151.1300</td>\n",
       "      <td>41.220173</td>\n",
       "      <td>66.0</td>\n",
       "      <td>1</td>\n",
       "    </tr>\n",
       "    <tr>\n",
       "      <th>12</th>\n",
       "      <td>144.7800</td>\n",
       "      <td>36.032215</td>\n",
       "      <td>73.0</td>\n",
       "      <td>0</td>\n",
       "    </tr>\n",
       "    <tr>\n",
       "      <th>13</th>\n",
       "      <td>149.9000</td>\n",
       "      <td>47.700000</td>\n",
       "      <td>20.0</td>\n",
       "      <td>0</td>\n",
       "    </tr>\n",
       "    <tr>\n",
       "      <th>14</th>\n",
       "      <td>150.4950</td>\n",
       "      <td>33.849303</td>\n",
       "      <td>65.3</td>\n",
       "      <td>0</td>\n",
       "    </tr>\n",
       "    <tr>\n",
       "      <th>15</th>\n",
       "      <td>163.1950</td>\n",
       "      <td>48.562694</td>\n",
       "      <td>36.0</td>\n",
       "      <td>1</td>\n",
       "    </tr>\n",
       "    <tr>\n",
       "      <th>16</th>\n",
       "      <td>157.4800</td>\n",
       "      <td>42.325803</td>\n",
       "      <td>44.0</td>\n",
       "      <td>1</td>\n",
       "    </tr>\n",
       "    <tr>\n",
       "      <th>17</th>\n",
       "      <td>143.9418</td>\n",
       "      <td>38.356873</td>\n",
       "      <td>31.0</td>\n",
       "      <td>0</td>\n",
       "    </tr>\n",
       "    <tr>\n",
       "      <th>21</th>\n",
       "      <td>161.2900</td>\n",
       "      <td>48.987936</td>\n",
       "      <td>39.0</td>\n",
       "      <td>1</td>\n",
       "    </tr>\n",
       "    <tr>\n",
       "      <th>22</th>\n",
       "      <td>156.2100</td>\n",
       "      <td>42.722696</td>\n",
       "      <td>29.0</td>\n",
       "      <td>0</td>\n",
       "    </tr>\n",
       "  </tbody>\n",
       "</table>\n",
       "</div>"
      ],
      "text/plain": [
       "      height     weight   age  male\n",
       "0   151.7650  47.825606  63.0     1\n",
       "1   139.7000  36.485807  63.0     0\n",
       "2   136.5250  31.864838  65.0     0\n",
       "3   156.8450  53.041914  41.0     1\n",
       "4   145.4150  41.276872  51.0     0\n",
       "5   163.8300  62.992589  35.0     1\n",
       "6   149.2250  38.243476  32.0     0\n",
       "7   168.9100  55.479971  27.0     1\n",
       "8   147.9550  34.869885  19.0     0\n",
       "9   165.1000  54.487739  54.0     1\n",
       "10  154.3050  49.895120  47.0     0\n",
       "11  151.1300  41.220173  66.0     1\n",
       "12  144.7800  36.032215  73.0     0\n",
       "13  149.9000  47.700000  20.0     0\n",
       "14  150.4950  33.849303  65.3     0\n",
       "15  163.1950  48.562694  36.0     1\n",
       "16  157.4800  42.325803  44.0     1\n",
       "17  143.9418  38.356873  31.0     0\n",
       "21  161.2900  48.987936  39.0     1\n",
       "22  156.2100  42.722696  29.0     0"
      ]
     },
     "execution_count": 96,
     "metadata": {},
     "output_type": "execute_result"
    }
   ],
   "source": [
    "_BASE_URL = \"https://raw.githubusercontent.com/rmcelreath/rethinking/Experimental/data\"\n",
    "HOWELL_DATASET_PATH = f\"{_BASE_URL}/Howell1.csv\"\n",
    "d = pd.read_csv(HOWELL_DATASET_PATH, sep=';', header=0)\n",
    "d=d[d.age>=18] #just adults \n",
    "d.head(20)"
   ]
  },
  {
   "attachments": {},
   "cell_type": "markdown",
   "metadata": {},
   "source": [
    "## Task 1. Prior predictive checks"
   ]
  },
  {
   "cell_type": "code",
   "execution_count": 97,
   "metadata": {},
   "outputs": [
    {
     "name": "stderr",
     "output_type": "stream",
     "text": [
      "INFO:cmdstanpy:found newer exe file, not recompiling\n",
      "INFO:cmdstanpy:CmdStan start processing\n",
      "chain 1 |\u001b[34m██████████\u001b[0m| 00:00 Sampling completed"
     ]
    },
    {
     "name": "stdout",
     "output_type": "stream",
     "text": [
      "                                                                                "
     ]
    },
    {
     "name": "stderr",
     "output_type": "stream",
     "text": [
      "\n",
      "INFO:cmdstanpy:CmdStan done processing.\n"
     ]
    },
    {
     "name": "stdout",
     "output_type": "stream",
     "text": [
      "\n"
     ]
    },
    {
     "data": {
      "text/html": [
       "<div>\n",
       "<style scoped>\n",
       "    .dataframe tbody tr th:only-of-type {\n",
       "        vertical-align: middle;\n",
       "    }\n",
       "\n",
       "    .dataframe tbody tr th {\n",
       "        vertical-align: top;\n",
       "    }\n",
       "\n",
       "    .dataframe thead th {\n",
       "        text-align: right;\n",
       "    }\n",
       "</style>\n",
       "<table border=\"1\" class=\"dataframe\">\n",
       "  <thead>\n",
       "    <tr style=\"text-align: right;\">\n",
       "      <th></th>\n",
       "      <th>lp__</th>\n",
       "      <th>accept_stat__</th>\n",
       "      <th>mu</th>\n",
       "      <th>sigma</th>\n",
       "      <th>height</th>\n",
       "    </tr>\n",
       "  </thead>\n",
       "  <tbody>\n",
       "    <tr>\n",
       "      <th>0</th>\n",
       "      <td>0.0</td>\n",
       "      <td>0.0</td>\n",
       "      <td>173.924</td>\n",
       "      <td>10.42040</td>\n",
       "      <td>181.845</td>\n",
       "    </tr>\n",
       "    <tr>\n",
       "      <th>1</th>\n",
       "      <td>0.0</td>\n",
       "      <td>0.0</td>\n",
       "      <td>144.043</td>\n",
       "      <td>10.87950</td>\n",
       "      <td>153.013</td>\n",
       "    </tr>\n",
       "    <tr>\n",
       "      <th>2</th>\n",
       "      <td>0.0</td>\n",
       "      <td>0.0</td>\n",
       "      <td>164.703</td>\n",
       "      <td>16.32730</td>\n",
       "      <td>147.927</td>\n",
       "    </tr>\n",
       "    <tr>\n",
       "      <th>3</th>\n",
       "      <td>0.0</td>\n",
       "      <td>0.0</td>\n",
       "      <td>159.445</td>\n",
       "      <td>10.90560</td>\n",
       "      <td>158.161</td>\n",
       "    </tr>\n",
       "    <tr>\n",
       "      <th>4</th>\n",
       "      <td>0.0</td>\n",
       "      <td>0.0</td>\n",
       "      <td>174.710</td>\n",
       "      <td>10.09930</td>\n",
       "      <td>178.151</td>\n",
       "    </tr>\n",
       "    <tr>\n",
       "      <th>5</th>\n",
       "      <td>0.0</td>\n",
       "      <td>0.0</td>\n",
       "      <td>167.095</td>\n",
       "      <td>11.94990</td>\n",
       "      <td>164.637</td>\n",
       "    </tr>\n",
       "    <tr>\n",
       "      <th>6</th>\n",
       "      <td>0.0</td>\n",
       "      <td>0.0</td>\n",
       "      <td>180.793</td>\n",
       "      <td>10.54060</td>\n",
       "      <td>179.667</td>\n",
       "    </tr>\n",
       "    <tr>\n",
       "      <th>7</th>\n",
       "      <td>0.0</td>\n",
       "      <td>0.0</td>\n",
       "      <td>176.448</td>\n",
       "      <td>6.94553</td>\n",
       "      <td>169.129</td>\n",
       "    </tr>\n",
       "    <tr>\n",
       "      <th>8</th>\n",
       "      <td>0.0</td>\n",
       "      <td>0.0</td>\n",
       "      <td>166.218</td>\n",
       "      <td>9.25966</td>\n",
       "      <td>160.531</td>\n",
       "    </tr>\n",
       "    <tr>\n",
       "      <th>9</th>\n",
       "      <td>0.0</td>\n",
       "      <td>0.0</td>\n",
       "      <td>161.391</td>\n",
       "      <td>7.09576</td>\n",
       "      <td>151.204</td>\n",
       "    </tr>\n",
       "    <tr>\n",
       "      <th>10</th>\n",
       "      <td>0.0</td>\n",
       "      <td>0.0</td>\n",
       "      <td>190.334</td>\n",
       "      <td>12.56890</td>\n",
       "      <td>225.490</td>\n",
       "    </tr>\n",
       "    <tr>\n",
       "      <th>11</th>\n",
       "      <td>0.0</td>\n",
       "      <td>0.0</td>\n",
       "      <td>169.011</td>\n",
       "      <td>11.03620</td>\n",
       "      <td>163.830</td>\n",
       "    </tr>\n",
       "    <tr>\n",
       "      <th>12</th>\n",
       "      <td>0.0</td>\n",
       "      <td>0.0</td>\n",
       "      <td>178.278</td>\n",
       "      <td>8.83399</td>\n",
       "      <td>173.820</td>\n",
       "    </tr>\n",
       "    <tr>\n",
       "      <th>13</th>\n",
       "      <td>0.0</td>\n",
       "      <td>0.0</td>\n",
       "      <td>135.742</td>\n",
       "      <td>10.52880</td>\n",
       "      <td>130.656</td>\n",
       "    </tr>\n",
       "    <tr>\n",
       "      <th>14</th>\n",
       "      <td>0.0</td>\n",
       "      <td>0.0</td>\n",
       "      <td>154.139</td>\n",
       "      <td>10.70130</td>\n",
       "      <td>132.100</td>\n",
       "    </tr>\n",
       "    <tr>\n",
       "      <th>15</th>\n",
       "      <td>0.0</td>\n",
       "      <td>0.0</td>\n",
       "      <td>174.074</td>\n",
       "      <td>4.70943</td>\n",
       "      <td>170.476</td>\n",
       "    </tr>\n",
       "    <tr>\n",
       "      <th>16</th>\n",
       "      <td>0.0</td>\n",
       "      <td>0.0</td>\n",
       "      <td>191.854</td>\n",
       "      <td>7.68669</td>\n",
       "      <td>196.416</td>\n",
       "    </tr>\n",
       "    <tr>\n",
       "      <th>17</th>\n",
       "      <td>0.0</td>\n",
       "      <td>0.0</td>\n",
       "      <td>174.167</td>\n",
       "      <td>12.01040</td>\n",
       "      <td>166.909</td>\n",
       "    </tr>\n",
       "    <tr>\n",
       "      <th>18</th>\n",
       "      <td>0.0</td>\n",
       "      <td>0.0</td>\n",
       "      <td>149.283</td>\n",
       "      <td>11.75590</td>\n",
       "      <td>165.716</td>\n",
       "    </tr>\n",
       "    <tr>\n",
       "      <th>19</th>\n",
       "      <td>0.0</td>\n",
       "      <td>0.0</td>\n",
       "      <td>160.724</td>\n",
       "      <td>11.59260</td>\n",
       "      <td>175.114</td>\n",
       "    </tr>\n",
       "  </tbody>\n",
       "</table>\n",
       "</div>"
      ],
      "text/plain": [
       "    lp__  accept_stat__       mu     sigma   height\n",
       "0    0.0            0.0  173.924  10.42040  181.845\n",
       "1    0.0            0.0  144.043  10.87950  153.013\n",
       "2    0.0            0.0  164.703  16.32730  147.927\n",
       "3    0.0            0.0  159.445  10.90560  158.161\n",
       "4    0.0            0.0  174.710  10.09930  178.151\n",
       "5    0.0            0.0  167.095  11.94990  164.637\n",
       "6    0.0            0.0  180.793  10.54060  179.667\n",
       "7    0.0            0.0  176.448   6.94553  169.129\n",
       "8    0.0            0.0  166.218   9.25966  160.531\n",
       "9    0.0            0.0  161.391   7.09576  151.204\n",
       "10   0.0            0.0  190.334  12.56890  225.490\n",
       "11   0.0            0.0  169.011  11.03620  163.830\n",
       "12   0.0            0.0  178.278   8.83399  173.820\n",
       "13   0.0            0.0  135.742  10.52880  130.656\n",
       "14   0.0            0.0  154.139  10.70130  132.100\n",
       "15   0.0            0.0  174.074   4.70943  170.476\n",
       "16   0.0            0.0  191.854   7.68669  196.416\n",
       "17   0.0            0.0  174.167  12.01040  166.909\n",
       "18   0.0            0.0  149.283  11.75590  165.716\n",
       "19   0.0            0.0  160.724  11.59260  175.114"
      ]
     },
     "execution_count": 97,
     "metadata": {},
     "output_type": "execute_result"
    }
   ],
   "source": [
    "model_ppc=CmdStanModel(stan_file='height_1_ppc.stan')\n",
    "\n",
    "R = 1000\n",
    "sim=model_ppc.sample(iter_sampling=R,\n",
    "                     iter_warmup=0,\n",
    "                     chains=1,\n",
    "                     fixed_param=True,\n",
    "                     seed=21,refresh=R)\n",
    "\n",
    "df = sim.draws_pd()\n",
    "df.head(20)"
   ]
  },
  {
   "attachments": {},
   "cell_type": "markdown",
   "metadata": {},
   "source": [
    "\n",
    "\n",
    "1. Plot histograms of mu, sigma and simulated height.\n",
    "2. Plot a joint distribution of mu and sigma.\n",
    "3. Check if samples are consistent with priors.\n",
    "4. Correct prior parameters to make them reasonably spreaded out. \n",
    "5. Check if observed data is possible to obtain using priors."
   ]
  },
  {
   "cell_type": "code",
   "execution_count": 98,
   "metadata": {},
   "outputs": [
    {
     "data": {
      "text/plain": [
       "Text(0.5, 1.0, 'Height distribution')"
      ]
     },
     "execution_count": 98,
     "metadata": {},
     "output_type": "execute_result"
    },
    {
     "data": {
      "image/png": "[encoded data removed]",
      "text/plain": [
       "<Figure size 432x288 with 1 Axes>"
      ]
     },
     "metadata": {
      "needs_background": "light"
     },
     "output_type": "display_data"
    },
    {
     "data": {
      "image/png": "[encoded data removed]",
      "text/plain": [
       "<Figure size 432x288 with 1 Axes>"
      ]
     },
     "metadata": {
      "needs_background": "light"
     },
     "output_type": "display_data"
    },
    {
     "data": {
      "image/png": "[encoded data removed]",
      "text/plain": [
       "<Figure size 432x288 with 1 Axes>"
      ]
     },
     "metadata": {
      "needs_background": "light"
     },
     "output_type": "display_data"
    }
   ],
   "source": [
    "plt.figure()\n",
    "df[\"mu\"].hist()\n",
    "plt.title(\"Mu distribution\")\n",
    "plt.figure()\n",
    "df[\"sigma\"].hist()\n",
    "plt.title(\"Sigma distribution\")\n",
    "plt.figure()\n",
    "df[\"height\"].hist()\n",
    "plt.title(\"Height distribution\")"
   ]
  },
  {
   "cell_type": "code",
   "execution_count": 99,
   "metadata": {},
   "outputs": [
    {
     "name": "stdout",
     "output_type": "stream",
     "text": [
      "\n"
     ]
    },
    {
     "data": {
      "image/png": "[encoded data removed]",
      "text/plain": [
       "<Figure size 432x432 with 3 Axes>"
      ]
     },
     "metadata": {
      "needs_background": "light"
     },
     "output_type": "display_data"
    }
   ],
   "source": [
    "# joint distribution of mu and sigma\n",
    "\n",
    "sns.jointplot(data=df, x=\"mu\", y=\"sigma\")\n",
    "print()"
   ]
  },
  {
   "attachments": {},
   "cell_type": "markdown",
   "metadata": {},
   "source": [
    "## Task 2. Model fit and evaluation"
   ]
  },
  {
   "cell_type": "code",
   "execution_count": 100,
   "metadata": {},
   "outputs": [
    {
     "name": "stderr",
     "output_type": "stream",
     "text": [
      "INFO:cmdstanpy:found newer exe file, not recompiling\n"
     ]
    }
   ],
   "source": [
    "model_1_fit=CmdStanModel(stan_file='height_1_fit.stan')"
   ]
  },
  {
   "cell_type": "code",
   "execution_count": 101,
   "metadata": {},
   "outputs": [
    {
     "name": "stderr",
     "output_type": "stream",
     "text": [
      "INFO:cmdstanpy:CmdStan start processing\n",
      "chain 1 |\u001b[33m          \u001b[0m| 00:00 Status\n",
      "\u001b[A\n",
      "\n",
      "chain 1 |\u001b[34m███████▋  \u001b[0m| 00:00 Iteration: 1400 / 2000 [ 70%]  (Sampling)\n",
      "chain 1 |\u001b[34m██████████\u001b[0m| 00:00 Sampling completed                       \n",
      "chain 2 |\u001b[34m██████████\u001b[0m| 00:00 Sampling completed                       \n",
      "chain 3 |\u001b[34m██████████\u001b[0m| 00:00 Sampling completed                       \n",
      "\n",
      "\n",
      "chain 4 |\u001b[34m██████████\u001b[0m| 00:00 Sampling completed"
     ]
    },
    {
     "name": "stdout",
     "output_type": "stream",
     "text": [
      "                                                                                                                                                                                                                                                                                                                                "
     ]
    },
    {
     "name": "stderr",
     "output_type": "stream",
     "text": [
      "\n",
      "INFO:cmdstanpy:CmdStan done processing.\n"
     ]
    },
    {
     "name": "stdout",
     "output_type": "stream",
     "text": [
      "\n"
     ]
    },
    {
     "data": {
      "text/html": [
       "<div>\n",
       "<style scoped>\n",
       "    .dataframe tbody tr th:only-of-type {\n",
       "        vertical-align: middle;\n",
       "    }\n",
       "\n",
       "    .dataframe tbody tr th {\n",
       "        vertical-align: top;\n",
       "    }\n",
       "\n",
       "    .dataframe thead th {\n",
       "        text-align: right;\n",
       "    }\n",
       "</style>\n",
       "<table border=\"1\" class=\"dataframe\">\n",
       "  <thead>\n",
       "    <tr style=\"text-align: right;\">\n",
       "      <th></th>\n",
       "      <th>lp__</th>\n",
       "      <th>accept_stat__</th>\n",
       "      <th>stepsize__</th>\n",
       "      <th>treedepth__</th>\n",
       "      <th>n_leapfrog__</th>\n",
       "      <th>divergent__</th>\n",
       "      <th>energy__</th>\n",
       "      <th>mu</th>\n",
       "      <th>sigma</th>\n",
       "      <th>height_pred</th>\n",
       "    </tr>\n",
       "  </thead>\n",
       "  <tbody>\n",
       "    <tr>\n",
       "      <th>0</th>\n",
       "      <td>-893.582</td>\n",
       "      <td>0.776707</td>\n",
       "      <td>0.561472</td>\n",
       "      <td>2.0</td>\n",
       "      <td>5.0</td>\n",
       "      <td>0.0</td>\n",
       "      <td>894.911</td>\n",
       "      <td>153.663</td>\n",
       "      <td>8.36450</td>\n",
       "      <td>163.281</td>\n",
       "    </tr>\n",
       "    <tr>\n",
       "      <th>1</th>\n",
       "      <td>-892.654</td>\n",
       "      <td>1.000000</td>\n",
       "      <td>0.561472</td>\n",
       "      <td>3.0</td>\n",
       "      <td>7.0</td>\n",
       "      <td>0.0</td>\n",
       "      <td>894.009</td>\n",
       "      <td>155.310</td>\n",
       "      <td>7.23858</td>\n",
       "      <td>137.826</td>\n",
       "    </tr>\n",
       "    <tr>\n",
       "      <th>2</th>\n",
       "      <td>-891.074</td>\n",
       "      <td>1.000000</td>\n",
       "      <td>0.561472</td>\n",
       "      <td>2.0</td>\n",
       "      <td>3.0</td>\n",
       "      <td>0.0</td>\n",
       "      <td>893.066</td>\n",
       "      <td>153.872</td>\n",
       "      <td>7.61172</td>\n",
       "      <td>156.724</td>\n",
       "    </tr>\n",
       "    <tr>\n",
       "      <th>3</th>\n",
       "      <td>-891.265</td>\n",
       "      <td>0.992799</td>\n",
       "      <td>0.561472</td>\n",
       "      <td>2.0</td>\n",
       "      <td>7.0</td>\n",
       "      <td>0.0</td>\n",
       "      <td>891.376</td>\n",
       "      <td>155.419</td>\n",
       "      <td>7.87928</td>\n",
       "      <td>154.466</td>\n",
       "    </tr>\n",
       "    <tr>\n",
       "      <th>4</th>\n",
       "      <td>-891.706</td>\n",
       "      <td>0.922205</td>\n",
       "      <td>0.561472</td>\n",
       "      <td>2.0</td>\n",
       "      <td>3.0</td>\n",
       "      <td>0.0</td>\n",
       "      <td>892.925</td>\n",
       "      <td>153.903</td>\n",
       "      <td>8.19200</td>\n",
       "      <td>139.579</td>\n",
       "    </tr>\n",
       "    <tr>\n",
       "      <th>5</th>\n",
       "      <td>-891.353</td>\n",
       "      <td>1.000000</td>\n",
       "      <td>0.561472</td>\n",
       "      <td>1.0</td>\n",
       "      <td>1.0</td>\n",
       "      <td>0.0</td>\n",
       "      <td>891.801</td>\n",
       "      <td>154.029</td>\n",
       "      <td>8.20861</td>\n",
       "      <td>144.124</td>\n",
       "    </tr>\n",
       "    <tr>\n",
       "      <th>6</th>\n",
       "      <td>-889.678</td>\n",
       "      <td>0.993571</td>\n",
       "      <td>0.561472</td>\n",
       "      <td>2.0</td>\n",
       "      <td>3.0</td>\n",
       "      <td>0.0</td>\n",
       "      <td>891.506</td>\n",
       "      <td>154.305</td>\n",
       "      <td>7.87860</td>\n",
       "      <td>153.849</td>\n",
       "    </tr>\n",
       "    <tr>\n",
       "      <th>7</th>\n",
       "      <td>-889.538</td>\n",
       "      <td>1.000000</td>\n",
       "      <td>0.561472</td>\n",
       "      <td>3.0</td>\n",
       "      <td>7.0</td>\n",
       "      <td>0.0</td>\n",
       "      <td>889.663</td>\n",
       "      <td>154.404</td>\n",
       "      <td>7.88121</td>\n",
       "      <td>148.463</td>\n",
       "    </tr>\n",
       "    <tr>\n",
       "      <th>8</th>\n",
       "      <td>-889.538</td>\n",
       "      <td>0.749284</td>\n",
       "      <td>0.561472</td>\n",
       "      <td>1.0</td>\n",
       "      <td>3.0</td>\n",
       "      <td>0.0</td>\n",
       "      <td>891.956</td>\n",
       "      <td>154.404</td>\n",
       "      <td>7.88121</td>\n",
       "      <td>153.480</td>\n",
       "    </tr>\n",
       "    <tr>\n",
       "      <th>9</th>\n",
       "      <td>-889.577</td>\n",
       "      <td>0.977402</td>\n",
       "      <td>0.561472</td>\n",
       "      <td>2.0</td>\n",
       "      <td>7.0</td>\n",
       "      <td>0.0</td>\n",
       "      <td>889.900</td>\n",
       "      <td>154.323</td>\n",
       "      <td>7.68736</td>\n",
       "      <td>171.454</td>\n",
       "    </tr>\n",
       "    <tr>\n",
       "      <th>10</th>\n",
       "      <td>-889.770</td>\n",
       "      <td>0.971594</td>\n",
       "      <td>0.561472</td>\n",
       "      <td>2.0</td>\n",
       "      <td>3.0</td>\n",
       "      <td>0.0</td>\n",
       "      <td>889.923</td>\n",
       "      <td>155.002</td>\n",
       "      <td>7.79784</td>\n",
       "      <td>160.028</td>\n",
       "    </tr>\n",
       "    <tr>\n",
       "      <th>11</th>\n",
       "      <td>-889.349</td>\n",
       "      <td>0.978180</td>\n",
       "      <td>0.561472</td>\n",
       "      <td>3.0</td>\n",
       "      <td>7.0</td>\n",
       "      <td>0.0</td>\n",
       "      <td>890.240</td>\n",
       "      <td>154.716</td>\n",
       "      <td>7.77715</td>\n",
       "      <td>145.519</td>\n",
       "    </tr>\n",
       "    <tr>\n",
       "      <th>12</th>\n",
       "      <td>-889.434</td>\n",
       "      <td>0.966785</td>\n",
       "      <td>0.561472</td>\n",
       "      <td>1.0</td>\n",
       "      <td>3.0</td>\n",
       "      <td>0.0</td>\n",
       "      <td>889.641</td>\n",
       "      <td>154.427</td>\n",
       "      <td>7.81140</td>\n",
       "      <td>163.933</td>\n",
       "    </tr>\n",
       "    <tr>\n",
       "      <th>13</th>\n",
       "      <td>-891.049</td>\n",
       "      <td>0.851812</td>\n",
       "      <td>0.561472</td>\n",
       "      <td>2.0</td>\n",
       "      <td>7.0</td>\n",
       "      <td>0.0</td>\n",
       "      <td>891.094</td>\n",
       "      <td>155.363</td>\n",
       "      <td>7.66338</td>\n",
       "      <td>156.024</td>\n",
       "    </tr>\n",
       "    <tr>\n",
       "      <th>14</th>\n",
       "      <td>-890.038</td>\n",
       "      <td>1.000000</td>\n",
       "      <td>0.561472</td>\n",
       "      <td>1.0</td>\n",
       "      <td>1.0</td>\n",
       "      <td>0.0</td>\n",
       "      <td>890.857</td>\n",
       "      <td>155.096</td>\n",
       "      <td>7.68118</td>\n",
       "      <td>156.232</td>\n",
       "    </tr>\n",
       "    <tr>\n",
       "      <th>15</th>\n",
       "      <td>-890.649</td>\n",
       "      <td>0.890729</td>\n",
       "      <td>0.561472</td>\n",
       "      <td>1.0</td>\n",
       "      <td>1.0</td>\n",
       "      <td>0.0</td>\n",
       "      <td>890.688</td>\n",
       "      <td>155.258</td>\n",
       "      <td>7.63567</td>\n",
       "      <td>137.611</td>\n",
       "    </tr>\n",
       "    <tr>\n",
       "      <th>16</th>\n",
       "      <td>-890.665</td>\n",
       "      <td>1.000000</td>\n",
       "      <td>0.561472</td>\n",
       "      <td>2.0</td>\n",
       "      <td>7.0</td>\n",
       "      <td>0.0</td>\n",
       "      <td>890.825</td>\n",
       "      <td>153.983</td>\n",
       "      <td>7.95688</td>\n",
       "      <td>144.051</td>\n",
       "    </tr>\n",
       "    <tr>\n",
       "      <th>17</th>\n",
       "      <td>-889.579</td>\n",
       "      <td>0.967439</td>\n",
       "      <td>0.561472</td>\n",
       "      <td>2.0</td>\n",
       "      <td>3.0</td>\n",
       "      <td>0.0</td>\n",
       "      <td>891.055</td>\n",
       "      <td>154.574</td>\n",
       "      <td>7.96147</td>\n",
       "      <td>155.300</td>\n",
       "    </tr>\n",
       "    <tr>\n",
       "      <th>18</th>\n",
       "      <td>-889.952</td>\n",
       "      <td>0.796321</td>\n",
       "      <td>0.561472</td>\n",
       "      <td>2.0</td>\n",
       "      <td>3.0</td>\n",
       "      <td>0.0</td>\n",
       "      <td>891.798</td>\n",
       "      <td>154.197</td>\n",
       "      <td>7.60375</td>\n",
       "      <td>149.380</td>\n",
       "    </tr>\n",
       "    <tr>\n",
       "      <th>19</th>\n",
       "      <td>-890.142</td>\n",
       "      <td>0.980299</td>\n",
       "      <td>0.561472</td>\n",
       "      <td>3.0</td>\n",
       "      <td>7.0</td>\n",
       "      <td>0.0</td>\n",
       "      <td>890.569</td>\n",
       "      <td>155.135</td>\n",
       "      <td>7.69906</td>\n",
       "      <td>152.636</td>\n",
       "    </tr>\n",
       "  </tbody>\n",
       "</table>\n",
       "</div>"
      ],
      "text/plain": [
       "       lp__  accept_stat__  stepsize__  treedepth__  n_leapfrog__  \\\n",
       "0  -893.582       0.776707    0.561472          2.0           5.0   \n",
       "1  -892.654       1.000000    0.561472          3.0           7.0   \n",
       "2  -891.074       1.000000    0.561472          2.0           3.0   \n",
       "3  -891.265       0.992799    0.561472          2.0           7.0   \n",
       "4  -891.706       0.922205    0.561472          2.0           3.0   \n",
       "5  -891.353       1.000000    0.561472          1.0           1.0   \n",
       "6  -889.678       0.993571    0.561472          2.0           3.0   \n",
       "7  -889.538       1.000000    0.561472          3.0           7.0   \n",
       "8  -889.538       0.749284    0.561472          1.0           3.0   \n",
       "9  -889.577       0.977402    0.561472          2.0           7.0   \n",
       "10 -889.770       0.971594    0.561472          2.0           3.0   \n",
       "11 -889.349       0.978180    0.561472          3.0           7.0   \n",
       "12 -889.434       0.966785    0.561472          1.0           3.0   \n",
       "13 -891.049       0.851812    0.561472          2.0           7.0   \n",
       "14 -890.038       1.000000    0.561472          1.0           1.0   \n",
       "15 -890.649       0.890729    0.561472          1.0           1.0   \n",
       "16 -890.665       1.000000    0.561472          2.0           7.0   \n",
       "17 -889.579       0.967439    0.561472          2.0           3.0   \n",
       "18 -889.952       0.796321    0.561472          2.0           3.0   \n",
       "19 -890.142       0.980299    0.561472          3.0           7.0   \n",
       "\n",
       "    divergent__  energy__       mu    sigma  height_pred  \n",
       "0           0.0   894.911  153.663  8.36450      163.281  \n",
       "1           0.0   894.009  155.310  7.23858      137.826  \n",
       "2           0.0   893.066  153.872  7.61172      156.724  \n",
       "3           0.0   891.376  155.419  7.87928      154.466  \n",
       "4           0.0   892.925  153.903  8.19200      139.579  \n",
       "5           0.0   891.801  154.029  8.20861      144.124  \n",
       "6           0.0   891.506  154.305  7.87860      153.849  \n",
       "7           0.0   889.663  154.404  7.88121      148.463  \n",
       "8           0.0   891.956  154.404  7.88121      153.480  \n",
       "9           0.0   889.900  154.323  7.68736      171.454  \n",
       "10          0.0   889.923  155.002  7.79784      160.028  \n",
       "11          0.0   890.240  154.716  7.77715      145.519  \n",
       "12          0.0   889.641  154.427  7.81140      163.933  \n",
       "13          0.0   891.094  155.363  7.66338      156.024  \n",
       "14          0.0   890.857  155.096  7.68118      156.232  \n",
       "15          0.0   890.688  155.258  7.63567      137.611  \n",
       "16          0.0   890.825  153.983  7.95688      144.051  \n",
       "17          0.0   891.055  154.574  7.96147      155.300  \n",
       "18          0.0   891.798  154.197  7.60375      149.380  \n",
       "19          0.0   890.569  155.135  7.69906      152.636  "
      ]
     },
     "execution_count": 101,
     "metadata": {},
     "output_type": "execute_result"
    }
   ],
   "source": [
    "fit=model_1_fit.sample(data=dict(N=len(d),\n",
    "                                   heights=d.height.values),\n",
    "                         seed=28052020)\n",
    "\n",
    "df = fit.draws_pd()\n",
    "df.head(20)"
   ]
  },
  {
   "attachments": {},
   "cell_type": "markdown",
   "metadata": {},
   "source": [
    "\n",
    "1. Plot a joint distribution of fitted mu and sigma.\n",
    "2. Plot histograms of data and simulated heights and evaluate the quality of model.\n"
   ]
  },
  {
   "cell_type": "code",
   "execution_count": 102,
   "metadata": {},
   "outputs": [
    {
     "name": "stdout",
     "output_type": "stream",
     "text": [
      "\n"
     ]
    },
    {
     "data": {
      "image/png": "[encoded data removed]",
      "text/plain": [
       "<Figure size 432x432 with 3 Axes>"
      ]
     },
     "metadata": {
      "needs_background": "light"
     },
     "output_type": "display_data"
    }
   ],
   "source": [
    "sns.jointplot(data=df, x=\"mu\", y=\"sigma\")\n",
    "print()"
   ]
  },
  {
   "cell_type": "code",
   "execution_count": 103,
   "metadata": {},
   "outputs": [
    {
     "data": {
      "text/plain": [
       "Text(0.5, 1.0, 'Height distribution')"
      ]
     },
     "execution_count": 103,
     "metadata": {},
     "output_type": "execute_result"
    },
    {
     "data": {
      "image/png": "[encoded data removed]",
      "text/plain": [
       "<Figure size 432x288 with 1 Axes>"
      ]
     },
     "metadata": {
      "needs_background": "light"
     },
     "output_type": "display_data"
    },
    {
     "data": {
      "image/png": "[encoded data removed]",
      "text/plain": [
       "<Figure size 432x288 with 1 Axes>"
      ]
     },
     "metadata": {
      "needs_background": "light"
     },
     "output_type": "display_data"
    },
    {
     "data": {
      "image/png": "[encoded data removed]",
      "text/plain": [
       "<Figure size 432x288 with 1 Axes>"
      ]
     },
     "metadata": {
      "needs_background": "light"
     },
     "output_type": "display_data"
    }
   ],
   "source": [
    "plt.figure()\n",
    "df[\"mu\"].hist()\n",
    "plt.title(\"Mu distribution\")\n",
    "plt.figure()\n",
    "df[\"sigma\"].hist()\n",
    "plt.title(\"Sigma distribution\")\n",
    "plt.figure()\n",
    "df[\"height_pred\"].hist()\n",
    "plt.title(\"Height distribution\")"
   ]
  },
  {
   "attachments": {},
   "cell_type": "markdown",
   "metadata": {},
   "source": [
    "## Task 3. Adding predictor to the model - weight\n",
    "\n",
    "Create column ```c_weight``` in the dataframe containing weights substrated by their mean.\n"
   ]
  },
  {
   "cell_type": "code",
   "execution_count": 104,
   "metadata": {},
   "outputs": [],
   "source": [
    "d[\"c_weight\"] = d[\"weight\"] / d[\"weight\"].mean()\n",
    "\n",
    "data_sim={'N':50, 'weight':np.linspace(d.c_weight.min(),d.c_weight.max())}"
   ]
  },
  {
   "attachments": {},
   "cell_type": "markdown",
   "metadata": {},
   "source": [
    "## Task 4. Prior predictive checks\n",
    " "
   ]
  },
  {
   "cell_type": "code",
   "execution_count": 105,
   "metadata": {},
   "outputs": [
    {
     "name": "stderr",
     "output_type": "stream",
     "text": [
      "INFO:cmdstanpy:found newer exe file, not recompiling\n",
      "INFO:cmdstanpy:CmdStan start processing\n",
      "chain 1 |\u001b[34m██████████\u001b[0m| 00:00 Sampling completed"
     ]
    },
    {
     "name": "stdout",
     "output_type": "stream",
     "text": [
      "                                                                                "
     ]
    },
    {
     "name": "stderr",
     "output_type": "stream",
     "text": [
      "\n",
      "INFO:cmdstanpy:CmdStan done processing.\n"
     ]
    },
    {
     "name": "stdout",
     "output_type": "stream",
     "text": [
      "\n"
     ]
    }
   ],
   "source": [
    "model_ppc=CmdStanModel(stan_file='height_2a_ppc.stan')\n",
    "R = 1000\n",
    "sim=model_ppc.sample(data=data_sim, \n",
    "                     iter_sampling=R, \n",
    "                     iter_warmup=0, \n",
    "                     chains=1, \n",
    "                     refresh=R,\n",
    "                     fixed_param=True,\n",
    "                     seed=11)"
   ]
  },
  {
   "attachments": {},
   "cell_type": "markdown",
   "metadata": {},
   "source": [
    "Plot lines for each sampled slope beta and intercept alpha, verify if possible predicted heights are consistent with minimum (0) and maximum (check Wikipedia) heights observed in nature."
   ]
  },
  {
   "cell_type": "code",
   "execution_count": 106,
   "metadata": {},
   "outputs": [
    {
     "data": {
      "text/plain": [
       "Text(0.5, 1.0, 'Beta')"
      ]
     },
     "execution_count": 106,
     "metadata": {},
     "output_type": "execute_result"
    },
    {
     "data": {
      "image/png": "[encoded data removed]",
      "text/plain": [
       "<Figure size 432x288 with 1 Axes>"
      ]
     },
     "metadata": {
      "needs_background": "light"
     },
     "output_type": "display_data"
    },
    {
     "data": {
      "image/png": "[encoded data removed]",
      "text/plain": [
       "<Figure size 432x288 with 1 Axes>"
      ]
     },
     "metadata": {
      "needs_background": "light"
     },
     "output_type": "display_data"
    }
   ],
   "source": [
    "df2 = sim.draws_pd()\n",
    "\n",
    "df2[\"a\"].plot()\n",
    "plt.title(\"Alpha\")\n",
    "\n",
    "plt.figure()\n",
    "df2[\"b\"].plot()\n",
    "plt.title(\"Beta\")"
   ]
  },
  {
   "cell_type": "code",
   "execution_count": 107,
   "metadata": {},
   "outputs": [
    {
     "name": "stdout",
     "output_type": "stream",
     "text": [
      "alpha:\n",
      "Max = 209.658\n",
      "Min = 126.78\n",
      "Mean = 166.533082\n",
      "Std = 12.63675112615186\n"
     ]
    }
   ],
   "source": [
    "print(\"alpha:\")\n",
    "print(f\"Max = {df2['a'].max()}\")\n",
    "print(f\"Min = {df2['a'].min()}\")\n",
    "print(f\"Mean = {df2['a'].mean()}\")\n",
    "print(f\"Std = {df2['a'].std()}\")"
   ]
  },
  {
   "attachments": {},
   "cell_type": "markdown",
   "metadata": {},
   "source": [
    "## Task 5. Modifying prior\n",
    "\n",
    "If prior for beta admits negative values, then it makes no sense. Lets change prior to lognormal distribution.\n"
   ]
  },
  {
   "cell_type": "code",
   "execution_count": 108,
   "metadata": {},
   "outputs": [
    {
     "name": "stderr",
     "output_type": "stream",
     "text": [
      "INFO:cmdstanpy:found newer exe file, not recompiling\n"
     ]
    }
   ],
   "source": [
    "model_ppc=CmdStanModel(stan_file='height_2b_ppc.stan')"
   ]
  },
  {
   "cell_type": "code",
   "execution_count": 109,
   "metadata": {},
   "outputs": [
    {
     "name": "stderr",
     "output_type": "stream",
     "text": [
      "INFO:cmdstanpy:CmdStan start processing\n",
      "chain 1 |\u001b[34m██████████\u001b[0m| 00:00 Sampling completed                      "
     ]
    },
    {
     "name": "stdout",
     "output_type": "stream",
     "text": [
      "                                                                                "
     ]
    },
    {
     "name": "stderr",
     "output_type": "stream",
     "text": [
      "\n",
      "INFO:cmdstanpy:CmdStan done processing.\n"
     ]
    },
    {
     "name": "stdout",
     "output_type": "stream",
     "text": [
      "\n"
     ]
    },
    {
     "data": {
      "text/html": [
       "<div>\n",
       "<style scoped>\n",
       "    .dataframe tbody tr th:only-of-type {\n",
       "        vertical-align: middle;\n",
       "    }\n",
       "\n",
       "    .dataframe tbody tr th {\n",
       "        vertical-align: top;\n",
       "    }\n",
       "\n",
       "    .dataframe thead th {\n",
       "        text-align: right;\n",
       "    }\n",
       "</style>\n",
       "<table border=\"1\" class=\"dataframe\">\n",
       "  <thead>\n",
       "    <tr style=\"text-align: right;\">\n",
       "      <th></th>\n",
       "      <th>lp__</th>\n",
       "      <th>accept_stat__</th>\n",
       "      <th>a</th>\n",
       "      <th>b</th>\n",
       "      <th>height[1]</th>\n",
       "      <th>height[2]</th>\n",
       "      <th>height[3]</th>\n",
       "      <th>height[4]</th>\n",
       "      <th>height[5]</th>\n",
       "      <th>height[6]</th>\n",
       "      <th>...</th>\n",
       "      <th>height[41]</th>\n",
       "      <th>height[42]</th>\n",
       "      <th>height[43]</th>\n",
       "      <th>height[44]</th>\n",
       "      <th>height[45]</th>\n",
       "      <th>height[46]</th>\n",
       "      <th>height[47]</th>\n",
       "      <th>height[48]</th>\n",
       "      <th>height[49]</th>\n",
       "      <th>height[50]</th>\n",
       "    </tr>\n",
       "  </thead>\n",
       "  <tbody>\n",
       "    <tr>\n",
       "      <th>0</th>\n",
       "      <td>0.0</td>\n",
       "      <td>0.0</td>\n",
       "      <td>202.206</td>\n",
       "      <td>2.175330</td>\n",
       "      <td>187.169</td>\n",
       "      <td>205.399</td>\n",
       "      <td>185.709</td>\n",
       "      <td>207.003</td>\n",
       "      <td>219.418</td>\n",
       "      <td>233.315</td>\n",
       "      <td>...</td>\n",
       "      <td>218.519</td>\n",
       "      <td>220.116</td>\n",
       "      <td>229.508</td>\n",
       "      <td>225.076</td>\n",
       "      <td>208.473</td>\n",
       "      <td>187.153</td>\n",
       "      <td>198.157</td>\n",
       "      <td>201.651</td>\n",
       "      <td>215.149</td>\n",
       "      <td>208.961</td>\n",
       "    </tr>\n",
       "    <tr>\n",
       "      <th>1</th>\n",
       "      <td>0.0</td>\n",
       "      <td>0.0</td>\n",
       "      <td>175.367</td>\n",
       "      <td>0.301518</td>\n",
       "      <td>175.487</td>\n",
       "      <td>175.532</td>\n",
       "      <td>191.377</td>\n",
       "      <td>185.463</td>\n",
       "      <td>185.209</td>\n",
       "      <td>190.913</td>\n",
       "      <td>...</td>\n",
       "      <td>171.960</td>\n",
       "      <td>184.623</td>\n",
       "      <td>210.508</td>\n",
       "      <td>175.446</td>\n",
       "      <td>164.066</td>\n",
       "      <td>173.734</td>\n",
       "      <td>163.392</td>\n",
       "      <td>182.482</td>\n",
       "      <td>162.250</td>\n",
       "      <td>174.492</td>\n",
       "    </tr>\n",
       "    <tr>\n",
       "      <th>2</th>\n",
       "      <td>0.0</td>\n",
       "      <td>0.0</td>\n",
       "      <td>183.957</td>\n",
       "      <td>0.926916</td>\n",
       "      <td>179.047</td>\n",
       "      <td>169.809</td>\n",
       "      <td>168.740</td>\n",
       "      <td>203.052</td>\n",
       "      <td>182.204</td>\n",
       "      <td>182.581</td>\n",
       "      <td>...</td>\n",
       "      <td>177.194</td>\n",
       "      <td>184.351</td>\n",
       "      <td>187.403</td>\n",
       "      <td>207.909</td>\n",
       "      <td>167.957</td>\n",
       "      <td>204.875</td>\n",
       "      <td>189.585</td>\n",
       "      <td>210.685</td>\n",
       "      <td>185.371</td>\n",
       "      <td>198.191</td>\n",
       "    </tr>\n",
       "    <tr>\n",
       "      <th>3</th>\n",
       "      <td>0.0</td>\n",
       "      <td>0.0</td>\n",
       "      <td>172.837</td>\n",
       "      <td>0.960919</td>\n",
       "      <td>176.276</td>\n",
       "      <td>160.747</td>\n",
       "      <td>170.221</td>\n",
       "      <td>166.940</td>\n",
       "      <td>190.834</td>\n",
       "      <td>164.993</td>\n",
       "      <td>...</td>\n",
       "      <td>164.067</td>\n",
       "      <td>185.652</td>\n",
       "      <td>177.813</td>\n",
       "      <td>185.326</td>\n",
       "      <td>181.375</td>\n",
       "      <td>176.141</td>\n",
       "      <td>179.234</td>\n",
       "      <td>192.809</td>\n",
       "      <td>168.452</td>\n",
       "      <td>167.952</td>\n",
       "    </tr>\n",
       "    <tr>\n",
       "      <th>4</th>\n",
       "      <td>0.0</td>\n",
       "      <td>0.0</td>\n",
       "      <td>178.605</td>\n",
       "      <td>0.619496</td>\n",
       "      <td>184.306</td>\n",
       "      <td>174.408</td>\n",
       "      <td>166.136</td>\n",
       "      <td>200.783</td>\n",
       "      <td>169.933</td>\n",
       "      <td>145.144</td>\n",
       "      <td>...</td>\n",
       "      <td>187.805</td>\n",
       "      <td>169.980</td>\n",
       "      <td>170.359</td>\n",
       "      <td>165.832</td>\n",
       "      <td>194.718</td>\n",
       "      <td>199.874</td>\n",
       "      <td>196.487</td>\n",
       "      <td>169.954</td>\n",
       "      <td>181.784</td>\n",
       "      <td>177.684</td>\n",
       "    </tr>\n",
       "    <tr>\n",
       "      <th>5</th>\n",
       "      <td>0.0</td>\n",
       "      <td>0.0</td>\n",
       "      <td>161.139</td>\n",
       "      <td>0.587912</td>\n",
       "      <td>171.399</td>\n",
       "      <td>169.034</td>\n",
       "      <td>150.983</td>\n",
       "      <td>152.259</td>\n",
       "      <td>138.552</td>\n",
       "      <td>149.758</td>\n",
       "      <td>...</td>\n",
       "      <td>149.084</td>\n",
       "      <td>155.348</td>\n",
       "      <td>158.348</td>\n",
       "      <td>181.064</td>\n",
       "      <td>169.978</td>\n",
       "      <td>172.991</td>\n",
       "      <td>169.135</td>\n",
       "      <td>159.266</td>\n",
       "      <td>156.313</td>\n",
       "      <td>140.849</td>\n",
       "    </tr>\n",
       "    <tr>\n",
       "      <th>6</th>\n",
       "      <td>0.0</td>\n",
       "      <td>0.0</td>\n",
       "      <td>171.369</td>\n",
       "      <td>1.296410</td>\n",
       "      <td>152.956</td>\n",
       "      <td>148.735</td>\n",
       "      <td>159.410</td>\n",
       "      <td>184.538</td>\n",
       "      <td>187.366</td>\n",
       "      <td>196.612</td>\n",
       "      <td>...</td>\n",
       "      <td>177.296</td>\n",
       "      <td>191.014</td>\n",
       "      <td>185.294</td>\n",
       "      <td>158.421</td>\n",
       "      <td>183.749</td>\n",
       "      <td>152.973</td>\n",
       "      <td>173.912</td>\n",
       "      <td>159.457</td>\n",
       "      <td>172.574</td>\n",
       "      <td>177.896</td>\n",
       "    </tr>\n",
       "    <tr>\n",
       "      <th>7</th>\n",
       "      <td>0.0</td>\n",
       "      <td>0.0</td>\n",
       "      <td>182.728</td>\n",
       "      <td>0.337035</td>\n",
       "      <td>179.120</td>\n",
       "      <td>190.485</td>\n",
       "      <td>192.434</td>\n",
       "      <td>199.212</td>\n",
       "      <td>173.145</td>\n",
       "      <td>178.313</td>\n",
       "      <td>...</td>\n",
       "      <td>166.591</td>\n",
       "      <td>199.941</td>\n",
       "      <td>152.319</td>\n",
       "      <td>168.976</td>\n",
       "      <td>174.224</td>\n",
       "      <td>204.117</td>\n",
       "      <td>194.403</td>\n",
       "      <td>197.342</td>\n",
       "      <td>148.344</td>\n",
       "      <td>156.948</td>\n",
       "    </tr>\n",
       "    <tr>\n",
       "      <th>8</th>\n",
       "      <td>0.0</td>\n",
       "      <td>0.0</td>\n",
       "      <td>175.473</td>\n",
       "      <td>0.618537</td>\n",
       "      <td>184.825</td>\n",
       "      <td>162.302</td>\n",
       "      <td>161.006</td>\n",
       "      <td>190.971</td>\n",
       "      <td>168.732</td>\n",
       "      <td>171.481</td>\n",
       "      <td>...</td>\n",
       "      <td>183.743</td>\n",
       "      <td>166.625</td>\n",
       "      <td>195.021</td>\n",
       "      <td>171.499</td>\n",
       "      <td>183.242</td>\n",
       "      <td>168.009</td>\n",
       "      <td>168.041</td>\n",
       "      <td>180.243</td>\n",
       "      <td>182.652</td>\n",
       "      <td>167.495</td>\n",
       "    </tr>\n",
       "    <tr>\n",
       "      <th>9</th>\n",
       "      <td>0.0</td>\n",
       "      <td>0.0</td>\n",
       "      <td>161.842</td>\n",
       "      <td>0.666117</td>\n",
       "      <td>175.682</td>\n",
       "      <td>163.710</td>\n",
       "      <td>170.677</td>\n",
       "      <td>176.532</td>\n",
       "      <td>159.960</td>\n",
       "      <td>132.543</td>\n",
       "      <td>...</td>\n",
       "      <td>159.704</td>\n",
       "      <td>156.137</td>\n",
       "      <td>170.450</td>\n",
       "      <td>157.981</td>\n",
       "      <td>150.965</td>\n",
       "      <td>143.411</td>\n",
       "      <td>149.836</td>\n",
       "      <td>164.332</td>\n",
       "      <td>144.370</td>\n",
       "      <td>154.425</td>\n",
       "    </tr>\n",
       "  </tbody>\n",
       "</table>\n",
       "<p>10 rows × 54 columns</p>\n",
       "</div>"
      ],
      "text/plain": [
       "   lp__  accept_stat__        a         b  height[1]  height[2]  height[3]  \\\n",
       "0   0.0            0.0  202.206  2.175330    187.169    205.399    185.709   \n",
       "1   0.0            0.0  175.367  0.301518    175.487    175.532    191.377   \n",
       "2   0.0            0.0  183.957  0.926916    179.047    169.809    168.740   \n",
       "3   0.0            0.0  172.837  0.960919    176.276    160.747    170.221   \n",
       "4   0.0            0.0  178.605  0.619496    184.306    174.408    166.136   \n",
       "5   0.0            0.0  161.139  0.587912    171.399    169.034    150.983   \n",
       "6   0.0            0.0  171.369  1.296410    152.956    148.735    159.410   \n",
       "7   0.0            0.0  182.728  0.337035    179.120    190.485    192.434   \n",
       "8   0.0            0.0  175.473  0.618537    184.825    162.302    161.006   \n",
       "9   0.0            0.0  161.842  0.666117    175.682    163.710    170.677   \n",
       "\n",
       "   height[4]  height[5]  height[6]  ...  height[41]  height[42]  height[43]  \\\n",
       "0    207.003    219.418    233.315  ...     218.519     220.116     229.508   \n",
       "1    185.463    185.209    190.913  ...     171.960     184.623     210.508   \n",
       "2    203.052    182.204    182.581  ...     177.194     184.351     187.403   \n",
       "3    166.940    190.834    164.993  ...     164.067     185.652     177.813   \n",
       "4    200.783    169.933    145.144  ...     187.805     169.980     170.359   \n",
       "5    152.259    138.552    149.758  ...     149.084     155.348     158.348   \n",
       "6    184.538    187.366    196.612  ...     177.296     191.014     185.294   \n",
       "7    199.212    173.145    178.313  ...     166.591     199.941     152.319   \n",
       "8    190.971    168.732    171.481  ...     183.743     166.625     195.021   \n",
       "9    176.532    159.960    132.543  ...     159.704     156.137     170.450   \n",
       "\n",
       "   height[44]  height[45]  height[46]  height[47]  height[48]  height[49]  \\\n",
       "0     225.076     208.473     187.153     198.157     201.651     215.149   \n",
       "1     175.446     164.066     173.734     163.392     182.482     162.250   \n",
       "2     207.909     167.957     204.875     189.585     210.685     185.371   \n",
       "3     185.326     181.375     176.141     179.234     192.809     168.452   \n",
       "4     165.832     194.718     199.874     196.487     169.954     181.784   \n",
       "5     181.064     169.978     172.991     169.135     159.266     156.313   \n",
       "6     158.421     183.749     152.973     173.912     159.457     172.574   \n",
       "7     168.976     174.224     204.117     194.403     197.342     148.344   \n",
       "8     171.499     183.242     168.009     168.041     180.243     182.652   \n",
       "9     157.981     150.965     143.411     149.836     164.332     144.370   \n",
       "\n",
       "   height[50]  \n",
       "0     208.961  \n",
       "1     174.492  \n",
       "2     198.191  \n",
       "3     167.952  \n",
       "4     177.684  \n",
       "5     140.849  \n",
       "6     177.896  \n",
       "7     156.948  \n",
       "8     167.495  \n",
       "9     154.425  \n",
       "\n",
       "[10 rows x 54 columns]"
      ]
     },
     "execution_count": 109,
     "metadata": {},
     "output_type": "execute_result"
    }
   ],
   "source": [
    "sim=model_ppc.sample(data=data_sim, \n",
    "                     iter_sampling=R, \n",
    "                     iter_warmup=0, \n",
    "                     chains=1, \n",
    "                     refresh=R,\n",
    "                     fixed_param=True,\n",
    "                     seed=29042020)\n",
    "\n",
    "df3 = sim.draws_pd()\n",
    "df3.head(10)"
   ]
  },
  {
   "attachments": {},
   "cell_type": "markdown",
   "metadata": {},
   "source": [
    "1. Plot lines for each sampled slope beta and intercept alpha, verify if possible predicted heights are consistent with minimum (0) and maximum (check Wikipedia) heights observed in nature.\n",
    "2. For each simulated weight plot maximum, minimum, and 5, 25, 50, 75, 95 quantiles of simulated weight (all in the same plot). Compare with observed data. Is observed data possible within the prior model?"
   ]
  },
  {
   "cell_type": "code",
   "execution_count": 110,
   "metadata": {},
   "outputs": [
    {
     "data": {
      "text/plain": [
       "Text(0.5, 1.0, 'Beta')"
      ]
     },
     "execution_count": 110,
     "metadata": {},
     "output_type": "execute_result"
    },
    {
     "data": {
      "image/png": "[encoded data removed]",
      "text/plain": [
       "<Figure size 432x288 with 1 Axes>"
      ]
     },
     "metadata": {
      "needs_background": "light"
     },
     "output_type": "display_data"
    },
    {
     "data": {
      "image/png": "[encoded data removed]",
      "text/plain": [
       "<Figure size 432x288 with 1 Axes>"
      ]
     },
     "metadata": {
      "needs_background": "light"
     },
     "output_type": "display_data"
    }
   ],
   "source": [
    "df3[\"a\"].plot()\n",
    "plt.title(\"Alpha\")\n",
    "\n",
    "plt.figure()\n",
    "df3[\"b\"].plot()\n",
    "plt.title(\"Beta\")"
   ]
  },
  {
   "cell_type": "code",
   "execution_count": 111,
   "metadata": {},
   "outputs": [
    {
     "name": "stdout",
     "output_type": "stream",
     "text": [
      "Alpha min: 119.734\n",
      "Alpha max: 207.565\n"
     ]
    }
   ],
   "source": [
    "print(f\"Alpha min: {df3['a'].min()}\")\n",
    "print(f\"Alpha max: {df3['a'].max()}\")"
   ]
  },
  {
   "cell_type": "code",
   "execution_count": 112,
   "metadata": {},
   "outputs": [
    {
     "data": {
      "image/png": "[encoded data removed]",
      "text/plain": [
       "<Figure size 432x288 with 1 Axes>"
      ]
     },
     "metadata": {
      "needs_background": "light"
     },
     "output_type": "display_data"
    }
   ],
   "source": [
    "qtls = [0, 5, 25, 50, 75, 95, 100]\n",
    "xaxis = [f\"{i}%\" for i in qtls]\n",
    "for i in range(1, data_sim[\"N\"]+1):\n",
    "    vals = [df3[f\"height[{i}]\"].quantile(q/100) for q in qtls]\n",
    "    plt.scatter(xaxis, vals)"
   ]
  },
  {
   "attachments": {},
   "cell_type": "markdown",
   "metadata": {},
   "source": [
    "## Task 6. Fitting and evaluating model\n"
   ]
  },
  {
   "cell_type": "code",
   "execution_count": 113,
   "metadata": {},
   "outputs": [
    {
     "name": "stderr",
     "output_type": "stream",
     "text": [
      "INFO:cmdstanpy:found newer exe file, not recompiling\n"
     ]
    }
   ],
   "source": [
    "model_2_fit=CmdStanModel(stan_file='height_2_fit.stan')"
   ]
  },
  {
   "attachments": {},
   "cell_type": "markdown",
   "metadata": {},
   "source": [
    "1. Create ```data_fit``` dictionary containing data from  ```N``` first rows of dataframe\n"
   ]
  },
  {
   "cell_type": "code",
   "execution_count": 114,
   "metadata": {},
   "outputs": [
    {
     "name": "stderr",
     "output_type": "stream",
     "text": [
      "INFO:cmdstanpy:CmdStan start processing\n",
      "chain 1 |\u001b[33m          \u001b[0m| 00:00 Status\n",
      "\u001b[A\n",
      "\n",
      "chain 1 |\u001b[34m███████▎  \u001b[0m| 00:00 Iteration: 1300 / 2000 [ 65%]  (Sampling)\n",
      "\u001b[A\n",
      "\n",
      "chain 1 |\u001b[34m██████████\u001b[0m| 00:00 Sampling completed                       \n",
      "chain 2 |\u001b[34m██████████\u001b[0m| 00:00 Sampling completed                       \n",
      "chain 3 |\u001b[34m██████████\u001b[0m| 00:00 Sampling completed                       \n",
      "chain 4 |\u001b[34m██████████\u001b[0m| 00:00 Sampling completed                       "
     ]
    },
    {
     "name": "stdout",
     "output_type": "stream",
     "text": [
      "                                                                                                                                                                                                                                                                                                                                "
     ]
    },
    {
     "name": "stderr",
     "output_type": "stream",
     "text": [
      "\n",
      "INFO:cmdstanpy:CmdStan done processing.\n"
     ]
    },
    {
     "name": "stdout",
     "output_type": "stream",
     "text": [
      "\n"
     ]
    },
    {
     "data": {
      "text/html": [
       "<div>\n",
       "<style scoped>\n",
       "    .dataframe tbody tr th:only-of-type {\n",
       "        vertical-align: middle;\n",
       "    }\n",
       "\n",
       "    .dataframe tbody tr th {\n",
       "        vertical-align: top;\n",
       "    }\n",
       "\n",
       "    .dataframe thead th {\n",
       "        text-align: right;\n",
       "    }\n",
       "</style>\n",
       "<table border=\"1\" class=\"dataframe\">\n",
       "  <thead>\n",
       "    <tr style=\"text-align: right;\">\n",
       "      <th></th>\n",
       "      <th>lp__</th>\n",
       "      <th>accept_stat__</th>\n",
       "      <th>stepsize__</th>\n",
       "      <th>treedepth__</th>\n",
       "      <th>n_leapfrog__</th>\n",
       "      <th>divergent__</th>\n",
       "      <th>energy__</th>\n",
       "      <th>b</th>\n",
       "      <th>a</th>\n",
       "      <th>sig</th>\n",
       "      <th>...</th>\n",
       "      <th>v_mu[42]</th>\n",
       "      <th>v_mu[43]</th>\n",
       "      <th>v_mu[44]</th>\n",
       "      <th>v_mu[45]</th>\n",
       "      <th>v_mu[46]</th>\n",
       "      <th>v_mu[47]</th>\n",
       "      <th>v_mu[48]</th>\n",
       "      <th>v_mu[49]</th>\n",
       "      <th>v_mu[50]</th>\n",
       "      <th>height_pred</th>\n",
       "    </tr>\n",
       "  </thead>\n",
       "  <tbody>\n",
       "    <tr>\n",
       "      <th>0</th>\n",
       "      <td>-3.348500</td>\n",
       "      <td>0.907016</td>\n",
       "      <td>0.713161</td>\n",
       "      <td>3.0</td>\n",
       "      <td>7.0</td>\n",
       "      <td>0.0</td>\n",
       "      <td>4.09531</td>\n",
       "      <td>1.424390</td>\n",
       "      <td>149.338</td>\n",
       "      <td>14.46120</td>\n",
       "      <td>...</td>\n",
       "      <td>232.806</td>\n",
       "      <td>215.886</td>\n",
       "      <td>212.332</td>\n",
       "      <td>221.840</td>\n",
       "      <td>226.708</td>\n",
       "      <td>214.715</td>\n",
       "      <td>217.744</td>\n",
       "      <td>223.720</td>\n",
       "      <td>217.178</td>\n",
       "      <td>238.294</td>\n",
       "    </tr>\n",
       "    <tr>\n",
       "      <th>1</th>\n",
       "      <td>-1.576900</td>\n",
       "      <td>0.997693</td>\n",
       "      <td>0.713161</td>\n",
       "      <td>3.0</td>\n",
       "      <td>7.0</td>\n",
       "      <td>0.0</td>\n",
       "      <td>3.65614</td>\n",
       "      <td>-0.632959</td>\n",
       "      <td>184.261</td>\n",
       "      <td>8.15359</td>\n",
       "      <td>...</td>\n",
       "      <td>147.171</td>\n",
       "      <td>154.689</td>\n",
       "      <td>156.268</td>\n",
       "      <td>152.043</td>\n",
       "      <td>149.880</td>\n",
       "      <td>155.210</td>\n",
       "      <td>153.864</td>\n",
       "      <td>151.208</td>\n",
       "      <td>154.115</td>\n",
       "      <td>163.790</td>\n",
       "    </tr>\n",
       "    <tr>\n",
       "      <th>2</th>\n",
       "      <td>-0.910051</td>\n",
       "      <td>0.935776</td>\n",
       "      <td>0.713161</td>\n",
       "      <td>3.0</td>\n",
       "      <td>7.0</td>\n",
       "      <td>0.0</td>\n",
       "      <td>3.72547</td>\n",
       "      <td>0.791622</td>\n",
       "      <td>159.448</td>\n",
       "      <td>13.43680</td>\n",
       "      <td>...</td>\n",
       "      <td>205.836</td>\n",
       "      <td>196.433</td>\n",
       "      <td>194.458</td>\n",
       "      <td>199.742</td>\n",
       "      <td>202.447</td>\n",
       "      <td>195.782</td>\n",
       "      <td>197.465</td>\n",
       "      <td>200.786</td>\n",
       "      <td>197.151</td>\n",
       "      <td>219.348</td>\n",
       "    </tr>\n",
       "    <tr>\n",
       "      <th>3</th>\n",
       "      <td>-2.813090</td>\n",
       "      <td>0.886194</td>\n",
       "      <td>0.713161</td>\n",
       "      <td>2.0</td>\n",
       "      <td>3.0</td>\n",
       "      <td>0.0</td>\n",
       "      <td>3.45272</td>\n",
       "      <td>0.304120</td>\n",
       "      <td>152.531</td>\n",
       "      <td>11.50730</td>\n",
       "      <td>...</td>\n",
       "      <td>170.352</td>\n",
       "      <td>166.740</td>\n",
       "      <td>165.981</td>\n",
       "      <td>168.011</td>\n",
       "      <td>169.050</td>\n",
       "      <td>166.490</td>\n",
       "      <td>167.136</td>\n",
       "      <td>168.412</td>\n",
       "      <td>167.016</td>\n",
       "      <td>166.429</td>\n",
       "    </tr>\n",
       "    <tr>\n",
       "      <th>4</th>\n",
       "      <td>-2.912890</td>\n",
       "      <td>0.972180</td>\n",
       "      <td>0.713161</td>\n",
       "      <td>3.0</td>\n",
       "      <td>7.0</td>\n",
       "      <td>0.0</td>\n",
       "      <td>5.29737</td>\n",
       "      <td>1.331080</td>\n",
       "      <td>188.436</td>\n",
       "      <td>10.81100</td>\n",
       "      <td>...</td>\n",
       "      <td>266.435</td>\n",
       "      <td>250.624</td>\n",
       "      <td>247.303</td>\n",
       "      <td>256.188</td>\n",
       "      <td>260.737</td>\n",
       "      <td>249.530</td>\n",
       "      <td>252.360</td>\n",
       "      <td>257.945</td>\n",
       "      <td>251.832</td>\n",
       "      <td>253.696</td>\n",
       "    </tr>\n",
       "    <tr>\n",
       "      <th>5</th>\n",
       "      <td>-1.334940</td>\n",
       "      <td>1.000000</td>\n",
       "      <td>0.713161</td>\n",
       "      <td>2.0</td>\n",
       "      <td>3.0</td>\n",
       "      <td>0.0</td>\n",
       "      <td>2.91531</td>\n",
       "      <td>0.529721</td>\n",
       "      <td>182.318</td>\n",
       "      <td>10.12130</td>\n",
       "      <td>...</td>\n",
       "      <td>213.358</td>\n",
       "      <td>207.066</td>\n",
       "      <td>205.745</td>\n",
       "      <td>209.280</td>\n",
       "      <td>211.091</td>\n",
       "      <td>206.631</td>\n",
       "      <td>207.757</td>\n",
       "      <td>209.980</td>\n",
       "      <td>207.547</td>\n",
       "      <td>211.868</td>\n",
       "    </tr>\n",
       "    <tr>\n",
       "      <th>6</th>\n",
       "      <td>-0.123939</td>\n",
       "      <td>1.000000</td>\n",
       "      <td>0.713161</td>\n",
       "      <td>2.0</td>\n",
       "      <td>3.0</td>\n",
       "      <td>0.0</td>\n",
       "      <td>1.36816</td>\n",
       "      <td>-0.303708</td>\n",
       "      <td>166.425</td>\n",
       "      <td>12.17250</td>\n",
       "      <td>...</td>\n",
       "      <td>148.628</td>\n",
       "      <td>152.236</td>\n",
       "      <td>152.993</td>\n",
       "      <td>150.966</td>\n",
       "      <td>149.928</td>\n",
       "      <td>152.485</td>\n",
       "      <td>151.839</td>\n",
       "      <td>150.565</td>\n",
       "      <td>151.960</td>\n",
       "      <td>135.879</td>\n",
       "    </tr>\n",
       "    <tr>\n",
       "      <th>7</th>\n",
       "      <td>-0.994271</td>\n",
       "      <td>0.930610</td>\n",
       "      <td>0.713161</td>\n",
       "      <td>3.0</td>\n",
       "      <td>7.0</td>\n",
       "      <td>0.0</td>\n",
       "      <td>1.53901</td>\n",
       "      <td>-0.244429</td>\n",
       "      <td>174.333</td>\n",
       "      <td>10.38000</td>\n",
       "      <td>...</td>\n",
       "      <td>160.010</td>\n",
       "      <td>162.914</td>\n",
       "      <td>163.524</td>\n",
       "      <td>161.892</td>\n",
       "      <td>161.057</td>\n",
       "      <td>163.115</td>\n",
       "      <td>162.595</td>\n",
       "      <td>161.569</td>\n",
       "      <td>162.692</td>\n",
       "      <td>155.548</td>\n",
       "    </tr>\n",
       "    <tr>\n",
       "      <th>8</th>\n",
       "      <td>-0.905975</td>\n",
       "      <td>0.903428</td>\n",
       "      <td>0.713161</td>\n",
       "      <td>2.0</td>\n",
       "      <td>3.0</td>\n",
       "      <td>0.0</td>\n",
       "      <td>2.71141</td>\n",
       "      <td>0.570566</td>\n",
       "      <td>162.357</td>\n",
       "      <td>10.25790</td>\n",
       "      <td>...</td>\n",
       "      <td>195.792</td>\n",
       "      <td>189.014</td>\n",
       "      <td>187.591</td>\n",
       "      <td>191.399</td>\n",
       "      <td>193.349</td>\n",
       "      <td>188.545</td>\n",
       "      <td>189.758</td>\n",
       "      <td>192.152</td>\n",
       "      <td>189.532</td>\n",
       "      <td>174.298</td>\n",
       "    </tr>\n",
       "    <tr>\n",
       "      <th>9</th>\n",
       "      <td>-3.921460</td>\n",
       "      <td>0.767227</td>\n",
       "      <td>0.713161</td>\n",
       "      <td>2.0</td>\n",
       "      <td>3.0</td>\n",
       "      <td>0.0</td>\n",
       "      <td>4.89551</td>\n",
       "      <td>-0.542074</td>\n",
       "      <td>133.625</td>\n",
       "      <td>13.59980</td>\n",
       "      <td>...</td>\n",
       "      <td>101.860</td>\n",
       "      <td>108.299</td>\n",
       "      <td>109.652</td>\n",
       "      <td>106.033</td>\n",
       "      <td>104.181</td>\n",
       "      <td>108.745</td>\n",
       "      <td>107.592</td>\n",
       "      <td>105.318</td>\n",
       "      <td>107.808</td>\n",
       "      <td>119.664</td>\n",
       "    </tr>\n",
       "  </tbody>\n",
       "</table>\n",
       "<p>10 rows × 62 columns</p>\n",
       "</div>"
      ],
      "text/plain": [
       "       lp__  accept_stat__  stepsize__  treedepth__  n_leapfrog__  \\\n",
       "0 -3.348500       0.907016    0.713161          3.0           7.0   \n",
       "1 -1.576900       0.997693    0.713161          3.0           7.0   \n",
       "2 -0.910051       0.935776    0.713161          3.0           7.0   \n",
       "3 -2.813090       0.886194    0.713161          2.0           3.0   \n",
       "4 -2.912890       0.972180    0.713161          3.0           7.0   \n",
       "5 -1.334940       1.000000    0.713161          2.0           3.0   \n",
       "6 -0.123939       1.000000    0.713161          2.0           3.0   \n",
       "7 -0.994271       0.930610    0.713161          3.0           7.0   \n",
       "8 -0.905975       0.903428    0.713161          2.0           3.0   \n",
       "9 -3.921460       0.767227    0.713161          2.0           3.0   \n",
       "\n",
       "   divergent__  energy__         b        a       sig  ...  v_mu[42]  \\\n",
       "0          0.0   4.09531  1.424390  149.338  14.46120  ...   232.806   \n",
       "1          0.0   3.65614 -0.632959  184.261   8.15359  ...   147.171   \n",
       "2          0.0   3.72547  0.791622  159.448  13.43680  ...   205.836   \n",
       "3          0.0   3.45272  0.304120  152.531  11.50730  ...   170.352   \n",
       "4          0.0   5.29737  1.331080  188.436  10.81100  ...   266.435   \n",
       "5          0.0   2.91531  0.529721  182.318  10.12130  ...   213.358   \n",
       "6          0.0   1.36816 -0.303708  166.425  12.17250  ...   148.628   \n",
       "7          0.0   1.53901 -0.244429  174.333  10.38000  ...   160.010   \n",
       "8          0.0   2.71141  0.570566  162.357  10.25790  ...   195.792   \n",
       "9          0.0   4.89551 -0.542074  133.625  13.59980  ...   101.860   \n",
       "\n",
       "   v_mu[43]  v_mu[44]  v_mu[45]  v_mu[46]  v_mu[47]  v_mu[48]  v_mu[49]  \\\n",
       "0   215.886   212.332   221.840   226.708   214.715   217.744   223.720   \n",
       "1   154.689   156.268   152.043   149.880   155.210   153.864   151.208   \n",
       "2   196.433   194.458   199.742   202.447   195.782   197.465   200.786   \n",
       "3   166.740   165.981   168.011   169.050   166.490   167.136   168.412   \n",
       "4   250.624   247.303   256.188   260.737   249.530   252.360   257.945   \n",
       "5   207.066   205.745   209.280   211.091   206.631   207.757   209.980   \n",
       "6   152.236   152.993   150.966   149.928   152.485   151.839   150.565   \n",
       "7   162.914   163.524   161.892   161.057   163.115   162.595   161.569   \n",
       "8   189.014   187.591   191.399   193.349   188.545   189.758   192.152   \n",
       "9   108.299   109.652   106.033   104.181   108.745   107.592   105.318   \n",
       "\n",
       "   v_mu[50]  height_pred  \n",
       "0   217.178      238.294  \n",
       "1   154.115      163.790  \n",
       "2   197.151      219.348  \n",
       "3   167.016      166.429  \n",
       "4   251.832      253.696  \n",
       "5   207.547      211.868  \n",
       "6   151.960      135.879  \n",
       "7   162.692      155.548  \n",
       "8   189.532      174.298  \n",
       "9   107.808      119.664  \n",
       "\n",
       "[10 rows x 62 columns]"
      ]
     },
     "execution_count": 114,
     "metadata": {},
     "output_type": "execute_result"
    }
   ],
   "source": [
    "N = 50\n",
    "data_fit = {'N': N, 'weight': d[\"weight\"].values[:N]}\n",
    "fit=model_2_fit.sample(data=data_fit,seed=28052020)\n",
    "\n",
    "df4 = fit.draws_pd()\n",
    "df4.head(10)"
   ]
  },
  {
   "attachments": {},
   "cell_type": "markdown",
   "metadata": {},
   "source": [
    "2. Plot lines for each sampled slope beta and intercept alpha. Verify how uncertainity changes with increasing of sample (N)\n",
    "2. For each value of weight plot mean simulated height along with errorbar of one standard deviation (use ```errorbar``` from matplotlib). Compare with observed data (N points). Is observed data possible within the posterior model? What changes when N increases.\n"
   ]
  },
  {
   "cell_type": "code",
   "execution_count": 115,
   "metadata": {},
   "outputs": [
    {
     "data": {
      "text/plain": [
       "Text(0.5, 1.0, 'Beta')"
      ]
     },
     "execution_count": 115,
     "metadata": {},
     "output_type": "execute_result"
    },
    {
     "data": {
      "image/png": "[encoded data removed]",
      "text/plain": [
       "<Figure size 432x288 with 1 Axes>"
      ]
     },
     "metadata": {
      "needs_background": "light"
     },
     "output_type": "display_data"
    },
    {
     "data": {
      "image/png": "[encoded data removed]",
      "text/plain": [
       "<Figure size 432x288 with 1 Axes>"
      ]
     },
     "metadata": {
      "needs_background": "light"
     },
     "output_type": "display_data"
    }
   ],
   "source": [
    "df4[\"a\"].plot()\n",
    "plt.title(\"Alpha\")\n",
    "\n",
    "plt.figure()\n",
    "df4[\"b\"].plot()\n",
    "plt.title(\"Beta\")"
   ]
  },
  {
   "cell_type": "code",
   "execution_count": 116,
   "metadata": {},
   "outputs": [
    {
     "data": {
      "image/png": "[encoded data removed]",
      "text/plain": [
       "<Figure size 432x288 with 1 Axes>"
      ]
     },
     "metadata": {
      "needs_background": "light"
     },
     "output_type": "display_data"
    }
   ],
   "source": [
    "\n",
    "for i in range(1, data_sim[\"N\"]):\n",
    "    plt.scatter(i, df4[f\"v_mu[{i}]\"].mean())\n",
    "    plt.errorbar(i, df4[f\"v_mu[{i}]\"].mean(), df4[f\"v_mu[{i}]\"].std())\n"
   ]
  },
  {
   "attachments": {},
   "cell_type": "markdown",
   "metadata": {},
   "source": [
    "## Task 7. Extending the model\n",
    "\n",
    "1. Center the weight data (substract mean vaule of weight from all values). Test how model works for such data. What is the interpretation of $\\alpha$ in such case?\n",
    "2. Using centered data modify your model with a second power of weight, select prior for its coefficient using prior predictive checks and after fitting check if model is still good.\n",
    "3. Try to vectorize the model to avoid necessity of a for loop in the ```model``` block. "
   ]
  },
  {
   "cell_type": "markdown",
   "metadata": {},
   "source": []
  }
 ],
 "metadata": {
  "interpreter": {
   "hash": "dec76d489b07b665fd6e3623e5629f717b1b30c784fea4bb610fb31850689f2f"
  },
  "kernelspec": {
   "display_name": "Python 3 (ipykernel)",
   "language": "python",
   "name": "python3"
  },
  "language_info": {
   "codemirror_mode": {
    "name": "ipython",
    "version": 3
   },
   "file_extension": ".py",
   "mimetype": "text/x-python",
   "name": "python",
   "nbconvert_exporter": "python",
   "pygments_lexer": "ipython3",
   "version": "3.9.11"
  }
 },
 "nbformat": 4,
 "nbformat_minor": 2
}
